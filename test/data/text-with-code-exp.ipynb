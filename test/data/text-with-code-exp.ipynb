{
    "cells": [
        {
            "attachments": {},
            "cell_type": "markdown",
            "metadata": {},
            "source": [
                "<html><div class=\"n1\"><div class=\"n2\">TEXT N2",
                "        <div class=\"n4\"><div class=\"n10\"></div></div></div></div></html>"
            ]
        },
        {
            "cell_type": "code",
            "execution_count": null,
            "metadata": {},
            "outputs": [],
            "source": [
                "CODE N5",
                "                "
            ]
        },
        {
            "attachments": {},
            "cell_type": "markdown",
            "metadata": {},
            "source": [
                "<html><div class=\"n1\"><div class=\"n2\"><div class=\"n6\">TEXT N6</div></div><div class=\"n3\"><div class=\"n7\"></div><div class=\"n8\">TEXT N8</div></div></div></html>"
            ]
        },
        {
            "cell_type": "code",
            "execution_count": null,
            "metadata": {},
            "outputs": [],
            "source": [
                "CODE N9"
            ]
        },
        {
            "attachments": {},
            "cell_type": "markdown",
            "metadata": {},
                "source": [
                    "<html><div class=\"n1\"><div class=\"n3\"></div></div></html>"
                ]
        }
    ],
    "metadata": {
        "language_info": {
            "name": "python"
        },
        "orig_nbformat": 4
    },
    "nbformat": 4,
    "nbformat_minor": 2
}
